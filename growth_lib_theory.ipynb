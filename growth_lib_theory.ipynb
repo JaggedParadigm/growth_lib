{
 "cells": [
  {
   "cell_type": "markdown",
   "metadata": {},
   "source": [
    "# Derivaton of exponential culture volume formula \n",
    "We want to know what volume, $V_a$, of exponentially growing culture at concentration, $C_m$, to add to a volume, $V_m$, of fresh media such that the desired optical density, $C_f$, should be acheived at a particular time the next day. \n",
    "\n",
    "The total volume of the final culture will be a combination of starting media volume and that added from the exponential culture:\n",
    "\n",
    "$$V_f = V_m + V_a$$\n",
    "\n",
    "We often desire a particular volume of final culture. One way to do this is to dilute the calculated amount of exponential culture with medium to a final volume. This can quickly become too laborious. Thus, it is more efficient to target the use of an exponential culture volume that is negligible relative to that already placed in the flasks. \n",
    "\n",
    "$$V_f \\approx V_m$$\n",
    "\n",
    "This has the added benefit in tracer experiments of allowing more doubling times for labeled cells to dominate the culture over the initial unlabeled inoculation cells.\n",
    "\n",
    "The inoculation concentration will be given by:\n",
    "\n",
    "$$\n",
    "C_mV_a = C_0V_f = C_0 \\left(V_a + V_m\\right) \\approx C_0 V_m \n",
    "$$\n",
    "\n",
    "Exponentially growing cells can be modeled using this equation:\n",
    "\n",
    "$$ \n",
    "C_f = C_0 exp(\\mu \\Delta t)\n",
    "$$\n",
    "\n",
    "where the innoculation OD, $C_0$, maximum specific growth rate, $\\mu$, and the time until the desired monitoring time, $\\Delta t$, are specified and $C_f$ is the final desired cell OD$_{600}$.\n",
    "\n",
    "Combining this and the previous equation and solving for $V_a$ results in:\n",
    "\n",
    "$$\n",
    "V_a = \\frac{C_0 V_m}{C_m} = \\frac{\\frac{C_f}{exp(\\mu \\Delta t)} V_m}{C_m} = \\frac{1}{\\frac{C_m exp(\\mu \\Delta t)}{C_f}} V_m\n",
    "$$"
   ]
  },
  {
   "cell_type": "markdown",
   "metadata": {},
   "source": [
    "# Formula without assumption\n",
    "If we can't make the assumption that $V_f \\approx V_m$ then the more accurate volume to add, $\\overline{V}_a$, is derived this way:\n",
    "\n",
    "$$\n",
    "C_m \\overline{V}_a = C_0 \\left(\\overline{V}_a + V_m \\right) \\\\\n",
    "\\Updownarrow \\\\\n",
    "\\overline{V}_a = \\frac{C_0 V_m}{C_m-C_0} = \\frac{\\frac{C_f}{exp(\\mu \\Delta t)} V_m}{C_m-\\frac{C_f}{exp(\\mu \\Delta t)}} = \\frac{1}{\\frac{C_m exp(\\mu \\Delta t)}{C_f}-1} V_m\n",
    "$$"
   ]
  },
  {
   "cell_type": "markdown",
   "metadata": {},
   "source": [
    "# Projecting growth\n",
    "Projecting growth is easier than calculating a dilution volume since it really only depends on the expected specific growth rate or doubling time and the desired final cell concentration:\n",
    "\n",
    "$$ \n",
    "C_f = C_0 exp(\\mu \\Delta t) \\\\\n",
    "\\Updownarrow \\\\\n",
    "C_0 = \\frac{C_f}{exp(\\mu \\Delta t)} \n",
    "$$\n",
    "\n",
    "$$ \n",
    "C(t) = \\frac{C_f}{exp(\\mu \\Delta t)} exp(\\mu t) = C_f exp\\left(\\mu (t - \\Delta t)\\right)\n",
    "$$\n"
   ]
  },
  {
   "cell_type": "code",
   "execution_count": null,
   "metadata": {
    "collapsed": true
   },
   "outputs": [],
   "source": []
  }
 ],
 "metadata": {
  "kernelspec": {
   "display_name": "Python 2",
   "language": "python",
   "name": "python2"
  },
  "language_info": {
   "codemirror_mode": {
    "name": "ipython",
    "version": 2
   },
   "file_extension": ".py",
   "mimetype": "text/x-python",
   "name": "python",
   "nbconvert_exporter": "python",
   "pygments_lexer": "ipython2",
   "version": "2.7.11"
  }
 },
 "nbformat": 4,
 "nbformat_minor": 0
}
