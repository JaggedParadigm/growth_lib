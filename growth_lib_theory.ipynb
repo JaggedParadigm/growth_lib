{
 "cells": [
  {
   "cell_type": "markdown",
   "metadata": {},
   "source": [
    "# Derivaton of exponential culture volume formula \n",
    "We want to know what volume, $V_a$, of exponentially growing culture at concentration, $OD_c$, to add to a volume, $V_m$, of fresh media such that the desired optical density, $OD$, should be acheived at a particular time the next day. \n",
    "\n",
    "The total volume of the final culture will be a combination of starting media volume and that added from the exponential culture:\n",
    "\n",
    "$$V_f = V_m + V_a$$\n",
    "\n",
    "We often desire a particular volume of final culture. One way to do this is to dilute the calculated amount of exponential culture with medium to a final volume. This can quickly become too laborious. Thus, it is more efficient to target the use of an exponential culture volume that is negligible relative to that already placed in the flasks. \n",
    "\n",
    "$$V_f \\approx V_m$$\n",
    "\n",
    "This has the added benefit in tracer experiments of allowing more doubling times for labeled cells to dominate the culture over the initial unlabeled inoculation cells.\n",
    "\n",
    "The inoculation concentration will be given by\n",
    "\n",
    "$$V_m OD_0=V_a OD_c $$\n",
    "\n",
    "Exponentially growing cells can be modeled using this equation:\n",
    "\n",
    "$$ OD = OD_0 exp(\\mu \\Delta t)$$\n",
    "\n",
    "where the innoculation OD, $OD_0$, maximum specific growth rate, $\\mu$, and the time until the desired monitoring time, $\\Delta t$, are specified.\n",
    "\n",
    "Combining this and the previous equation and solving for $V_a$ results in:\n",
    "\n",
    "$$V_a=\\frac{1}{\\frac{OD_c exp(\\mu \\Delta t)}{OD}}V_m$$"
   ]
  },
  {
   "cell_type": "markdown",
   "metadata": {},
   "source": [
    "# Error analysis\n",
    "Use of this formula could lead to over- or undershooting the desired OD. We'd like to determine when we should use the more complicated formula over the simplified version above.\n",
    "\n",
    "The question is given the same amount of time, $\\Delta t$, specific growth rate, $\\mu$, measured culture OD, $OD_c$, and medium volume, $V_m$, how will the final OD, $OD$, vary when using the estimates for the added exponential culture volume from the the approximation, $V_a$, and that from the full derivation $\\overline{V}_a$?\n",
    "\n",
    "We will start by deriving the full equation. The concentration balance equation with $V_f=V_m+V_a$ is:"
   ]
  },
  {
   "cell_type": "markdown",
   "metadata": {},
   "source": [
    "$$(V_m + V_a) OD_0=V_a OD_c $$"
   ]
  },
  {
   "cell_type": "markdown",
   "metadata": {},
   "source": [
    "Solving for $V_a$ gives:\n",
    "\n",
    "$$V_a=\\frac{V_m {OD}_0}{{OD}_c-{OD}_0}$$\n",
    "\n",
    "Combining with $ OD = OD_0 exp(\\mu \\Delta t)$ and rearranging:\n",
    "\n",
    "$$\\overline{V}_a=\\frac{1}{\\frac{{OD}_c exp(\\mu \\Delta t)}{OD}-1}V_m $$\n",
    "\n",
    "Here's the approximate version for comparison:\n",
    "\n",
    "$$V_a=\\frac{1}{\\frac{OD_c exp(\\mu \\Delta t)}{OD}}V_m$$\n",
    "\n",
    "$$\\overline{V}_a=\\frac{1}{\\frac{{OD}_c exp(\\mu \\Delta t)}{OD}-1}V_m $$"
   ]
  },
  {
   "cell_type": "markdown",
   "metadata": {},
   "source": [
    "Thus, the OD as a function of $V_a$ is given by:\n",
    "\n",
    "$$OD=f(V_a)=\\frac{{OD}_c exp(\\mu \\Delta t)}{\\frac{V_m}{V_a} +1}$$\n",
    "\n",
    "The error, $\\epsilon$, is given by:\n",
    "\n",
    "$$\\epsilon = OD(\\overline{V}_a)-OD(V_a)= \\frac{{OD}_c exp(\\mu \\Delta t)}{\\frac{V_m}{\\overline{V}_a} +1}-\\frac{{OD}_c exp(\\mu \\Delta t)}{\\frac{V_m}{V_a} +1}$$\n",
    "\n",
    "Substituting for the equations defining $V_a$ and $\\overline{V}_a$ results in:\n"
   ]
  },
  {
   "cell_type": "markdown",
   "metadata": {},
   "source": [
    "$$\\epsilon = {OD}_c exp(\\mu \\Delta t)\\left(\\frac{1}{\\frac{V_m}{\\frac{1}{\\frac{{OD}_c exp(\\mu \\Delta t)}{OD}-1}V_m } +1}-\\frac{1}{\\frac{V_m}{\\frac{1}{\\frac{OD_c exp(\\mu \\Delta t)}{OD}}V_m}+1} \\right)$$\n",
    "\n",
    "Rearranging results in:"
   ]
  },
  {
   "cell_type": "markdown",
   "metadata": {},
   "source": [
    "$$\\epsilon = OD-\\frac{1}{\\frac{1}{OD}+\\frac{1}{{OD}_c exp(\\mu \\Delta t)}}$$"
   ]
  },
  {
   "cell_type": "markdown",
   "metadata": {
    "collapsed": true
   },
   "source": [
    "Thus, the absolute error increases with increasing time interval, $\\Delta t$, and increasing measured culture OD, $OD_c$. "
   ]
  },
  {
   "cell_type": "code",
   "execution_count": 18,
   "metadata": {
    "collapsed": false
   },
   "outputs": [
    {
     "data": {
      "text/plain": [
       "<matplotlib.axes._subplots.AxesSubplot at 0x1061c52d0>"
      ]
     },
     "execution_count": 18,
     "metadata": {},
     "output_type": "execute_result"
    },
    {
     "data": {
      "image/png": "[encoded data removed]",
      "text/plain": [
       "<matplotlib.figure.Figure at 0x10a3a31d0>"
      ]
     },
     "metadata": {},
     "output_type": "display_data"
    }
   ],
   "source": [
    "%matplotlib inline\n",
    "import numpy as np\n",
    "import pandas as pd\n",
    "\n",
    "OD = 0.2\n",
    "mu = np.log(2.)/3.4\n",
    "ODm = 5.0*0.3435\n",
    "delt = np.array([1.1*x for x in range(100) if x !=0])\n",
    "err = OD - 1/(1/OD+1/(ODm*np.exp(mu*delt)))\n",
    "\n",
    "\n",
    "\n",
    "pd.DataFrame(np.array([delt,err]).T,columns=['t','err'])[['t','err']].plot(x='t',y='err',style='r-o')"
   ]
  },
  {
   "cell_type": "code",
   "execution_count": null,
   "metadata": {
    "collapsed": true
   },
   "outputs": [],
   "source": []
  }
 ],
 "metadata": {
  "kernelspec": {
   "display_name": "Python 2",
   "language": "python",
   "name": "python2"
  },
  "language_info": {
   "codemirror_mode": {
    "name": "ipython",
    "version": 2
   },
   "file_extension": ".py",
   "mimetype": "text/x-python",
   "name": "python",
   "nbconvert_exporter": "python",
   "pygments_lexer": "ipython2",
   "version": "2.7.11"
  }
 },
 "nbformat": 4,
 "nbformat_minor": 0
}
