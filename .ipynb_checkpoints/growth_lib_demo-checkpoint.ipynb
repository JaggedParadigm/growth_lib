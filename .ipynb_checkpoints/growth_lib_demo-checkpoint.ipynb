{
 "cells": [
  {
   "cell_type": "markdown",
   "metadata": {},
   "source": [
    "# Import packages"
   ]
  },
  {
   "cell_type": "code",
   "execution_count": 2,
   "metadata": {
    "collapsed": false
   },
   "outputs": [],
   "source": [
    "from growth_lib import calc_culture_dilution\n",
    "import numpy as np"
   ]
  },
  {
   "cell_type": "markdown",
   "metadata": {},
   "source": [
    "# Examples\n",
    "## Inoculation volume from pre-culture\n",
    "Our goal is to calculate the volume of an exponential-phase preculture we should use to inoculate a fresh culture to target a particular OD at a particular time the next day.\n",
    "\n",
    "### Default current time as modeling start time\n",
    "If the keyword argument 'start_time' is specified, growth_lib will use the current time.\n",
    "\n",
    "We would like the inoculation volumes from 3 precultures with measured OD<sub>600</sub> values of 0.3435, 0.2574, and 0.4872 to target an OD<sub>600</sub> of about 0.7 at about 3:30 PM tomorrow starting with 40.0 mL fresh medium, assuming a 3.4 hr doubling time. \n",
    "\n",
    "Here we set these input keyword arguments: "
   ]
  },
  {
   "cell_type": "code",
   "execution_count": 15,
   "metadata": {
    "collapsed": false
   },
   "outputs": [],
   "source": [
    "kwargs = {\n",
    "    'culture_volume': 40.0, # Culture volume in mL\n",
    "    'final_OD': 0.7, # Final OD value\n",
    "    'desired_time': '3:30 PM', # Desired time to acheive final OD\n",
    "    'measured_OD': np.array([0.3435, 0.2574, 0.4872]), # Pre-culture OD\n",
    "    'doubling_time': 3.4 # Strain doubling time\n",
    "}"
   ]
  },
  {
   "cell_type": "markdown",
   "metadata": {},
   "source": [
    "Now we use the calc_culture_dilution() method to calculate the amount of preculture to use to inoculate the final cultures: "
   ]
  },
  {
   "cell_type": "code",
   "execution_count": 16,
   "metadata": {
    "collapsed": false
   },
   "outputs": [
    {
     "name": "stdout",
     "output_type": "stream",
     "text": [
      "[ 0.47832527  0.63832452  0.33724288]\n"
     ]
    }
   ],
   "source": [
    "print calc_preculture_volume(**kwargs)"
   ]
  },
  {
   "cell_type": "markdown",
   "metadata": {},
   "source": [
    "Hence, we need to add 0.457 mL (457 $\\mu$L) to one flask containing 40 mL of fresh medium and 0.610 and 0.322 mL to the others."
   ]
  },
  {
   "cell_type": "markdown",
   "metadata": {},
   "source": [
    "### User-specified modeling start time\n",
    "If we set the 'start_time' keyword argument this will be used for modeling the cell growth from this time instead of the current time.\n",
    "\n",
    "I found that, in practice, setting this for about 20 min after measurement of the preculture usually gave me just about enough time to mix about 10 flasks and place them in the incubator.\n",
    "\n",
    "Here's an example of the same parameters from the last example but with the start time specified:"
   ]
  },
  {
   "cell_type": "code",
   "execution_count": 22,
   "metadata": {
    "collapsed": false
   },
   "outputs": [
    {
     "name": "stdout",
     "output_type": "stream",
     "text": [
      "[ 0.48059087  0.64134796  0.33884024]\n"
     ]
    }
   ],
   "source": [
    "kwargs = {\n",
    "    'start_time': '6:28 PM', # Time to start cell culture modeling\n",
    "    'culture_volume': 40.0, # Culture volume in mL\n",
    "    'final_OD': 0.7, # Final OD value\n",
    "    'desired_time': '3:30 PM', # Desired time to acheive final OD\n",
    "    'measured_OD': np.array([0.3435, 0.2574, 0.4872]), # Pre-culture OD\n",
    "    'doubling_time': 3.4 # Strain doubling time\n",
    "}\n",
    "\n",
    "print calc_preculture_volume(**kwargs)"
   ]
  }
 ],
 "metadata": {
  "kernelspec": {
   "display_name": "Python 2",
   "language": "python",
   "name": "python2"
  },
  "language_info": {
   "codemirror_mode": {
    "name": "ipython",
    "version": 2
   },
   "file_extension": ".py",
   "mimetype": "text/x-python",
   "name": "python",
   "nbconvert_exporter": "python",
   "pygments_lexer": "ipython2",
   "version": "2.7.11"
  }
 },
 "nbformat": 4,
 "nbformat_minor": 0
}
