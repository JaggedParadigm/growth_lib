{
 "cells": [
  {
   "cell_type": "markdown",
   "metadata": {},
   "source": [
    "# Import packages"
   ]
  },
  {
   "cell_type": "code",
   "execution_count": 2,
   "metadata": {
    "collapsed": false
   },
   "outputs": [],
   "source": [
    "from growth_lib import calc_preculture_volume,project_growth\n",
    "import numpy as np\n",
    "import pandas\n",
    "import matplotlib\n",
    "\n",
    "%matplotlib inline"
   ]
  },
  {
   "cell_type": "markdown",
   "metadata": {},
   "source": [
    "# Inoculation volume from preculture\n",
    "Our goal is to calculate the volume of an exponential-phase preculture we should use to inoculate a fresh culture to target a particular OD at a particular time the next day.\n",
    "\n",
    "### Default current time as modeling start time\n",
    "If the keyword argument 'start_time' is not specified, growth_lib will use the current time.\n",
    "\n",
    "We would like the inoculation volumes from 3 precultures with measured OD<sub>600</sub> values of 0.3435, 0.2574, and 0.4872 to target an OD<sub>600</sub> of about 0.7 at about 9:30 AM tomorrow starting with 40.0 mL fresh medium, assuming a 3.4 hr doubling time. \n",
    "\n",
    "Here we set these input keyword arguments: "
   ]
  },
  {
   "cell_type": "code",
   "execution_count": 27,
   "metadata": {
    "collapsed": false
   },
   "outputs": [],
   "source": [
    "kwargs = {\n",
    "    'culture_volume': 40.0, # Culture volume in mL\n",
    "    'final_OD': 0.7, # Final OD value\n",
    "    'end_time': '9:30 AM', # Desired time to acheive final OD\n",
    "    'measured_OD': np.array([0.3435, 0.2574, 0.4872]), # Preculture ODs of 3 flasks\n",
    "    'doubling_time': 3.4 # Strain doubling time\n",
    "}"
   ]
  },
  {
   "cell_type": "markdown",
   "metadata": {},
   "source": [
    "Now we use the calc_culture_dilution() method to calculate the amount of preculture to use to inoculate the final cultures: "
   ]
  },
  {
   "cell_type": "code",
   "execution_count": 28,
   "metadata": {
    "collapsed": false
   },
   "outputs": [
    {
     "name": "stdout",
     "output_type": "stream",
     "text": [
      "[ 5.87746853  7.8434749   4.14390484]\n"
     ]
    }
   ],
   "source": [
    "print calc_preculture_volume(**kwargs)"
   ]
  },
  {
   "cell_type": "markdown",
   "metadata": {},
   "source": [
    "Hence, we need to add 0.503 mL (503 $\\mu$L) to one flask containing 40 mL of fresh medium and 0.671 and 0.354 mL to the others."
   ]
  },
  {
   "cell_type": "markdown",
   "metadata": {},
   "source": [
    "### User-specified modeling start time\n",
    "If we set the 'start_time' keyword argument this will be used for modeling the cell growth from this time instead of the current time.\n",
    "\n",
    "I found that, in practice, setting this for about 20 min after measurement of the preculture usually gave me just about enough time to mix about 10 flasks and place them in the incubator.\n",
    "\n",
    "Here's an example of the same parameters from the last example but with the start time specified:"
   ]
  },
  {
   "cell_type": "code",
   "execution_count": 30,
   "metadata": {
    "collapsed": false
   },
   "outputs": [
    {
     "name": "stdout",
     "output_type": "stream",
     "text": [
      "[ 5.88272421  7.8504886   4.14761036]\n"
     ]
    }
   ],
   "source": [
    "kwargs = {\n",
    "    'start_time': '3:40 PM', # Time to start cell culture modeling\n",
    "    'culture_volume': 40.0, # Culture volume in mL\n",
    "    'final_OD': 0.7, # Final OD value\n",
    "    'end_time': '9:30 AM', # Desired time to acheive final OD\n",
    "    'measured_OD': np.array([0.3435, 0.2574, 0.4872]), # Preculture OD\n",
    "    'doubling_time': 3.4 # Strain doubling time\n",
    "}\n",
    "\n",
    "print calc_preculture_volume(**kwargs)"
   ]
  },
  {
   "cell_type": "markdown",
   "metadata": {},
   "source": [
    "### Detailed formula"
   ]
  },
  {
   "cell_type": "code",
   "execution_count": 6,
   "metadata": {
    "collapsed": false
   },
   "outputs": [
    {
     "name": "stdout",
     "output_type": "stream",
     "text": [
      "[ 1.58348683  2.11316132  1.11643622]\n",
      "[ 1.64875656  2.23102435  1.14849175]\n"
     ]
    }
   ],
   "source": [
    "kwargs = {\n",
    "    'start_time': '6:28 PM', # Time to start cell culture modeling\n",
    "    'culture_volume': 40.0, # Culture volume in mL\n",
    "    'final_OD': 0.7, # Final OD value\n",
    "    'end_time': '3:30 PM', # Desired time to acheive final OD\n",
    "    'measured_OD': np.array([0.3435, 0.2574, 0.4872]), # Preculture OD\n",
    "    'doubling_time': 3.4, # Strain doubling time\n",
    "}\n",
    "print calc_preculture_volume(**kwargs)\n",
    "\n",
    "kwargs = {\n",
    "    'start_time': '6:28 PM', # Time to start cell culture modeling\n",
    "    'culture_volume': 40.0, # Culture volume in mL\n",
    "    'final_OD': 0.7, # Final OD value\n",
    "    'end_time': '3:30 PM', # Desired time to acheive final OD\n",
    "    'measured_OD': np.array([0.3435, 0.2574, 0.4872]), # Preculture OD\n",
    "    'doubling_time': 3.4, # Strain doubling time\n",
    "    'detailed_flag': True # Use of detailed formula\n",
    "}\n",
    "\n",
    "print calc_preculture_volume(**kwargs)"
   ]
  },
  {
   "cell_type": "code",
   "execution_count": 18,
   "metadata": {
    "collapsed": false
   },
   "outputs": [],
   "source": [
    "kwargs = {\n",
    "    'start_time': '6:28 PM', # Time to start cell culture modeling\n",
    "    'final_OD': 0.7, # Final OD value\n",
    "    'end_time': '9:30 AM', # Desired time to acheive final OD\n",
    "    'measured_OD': np.array([0.3435, 0.2574, 0.4872]), # Preculture OD\n",
    "    'doubling_time': 3.4, # Strain doubling time\n",
    "}\n",
    "\n",
    "cell_concentration_series = project_growth(**kwargs)"
   ]
  },
  {
   "cell_type": "code",
   "execution_count": 8,
   "metadata": {
    "collapsed": false
   },
   "outputs": [],
   "source": [
    "OD_df = pandas.DataFrame(np.array(cell_concentration_series).T,columns=['Elapsed Time','OD'])"
   ]
  },
  {
   "cell_type": "code",
   "execution_count": 24,
   "metadata": {
    "collapsed": false
   },
   "outputs": [
    {
     "data": {
      "text/plain": [
       "<matplotlib.axes._subplots.AxesSubplot at 0x1100b2cd0>"
      ]
     },
     "execution_count": 24,
     "metadata": {},
     "output_type": "execute_result"
    },
    {
     "data": {
      "image/png": "[encoded data removed]",
      "text/plain": [
       "<matplotlib.figure.Figure at 0x1100ee1d0>"
      ]
     },
     "metadata": {},
     "output_type": "display_data"
    }
   ],
   "source": [
    "from matplotlib import pylab as plt\n",
    "\n",
    "OD_df.plot(x='Elapsed Time',y='OD',style='o-',c='k')"
   ]
  }
 ],
 "metadata": {
  "anaconda-cloud": {},
  "kernelspec": {
   "display_name": "Python [default]",
   "language": "python",
   "name": "python2"
  },
  "language_info": {
   "codemirror_mode": {
    "name": "ipython",
    "version": 2
   },
   "file_extension": ".py",
   "mimetype": "text/x-python",
   "name": "python",
   "nbconvert_exporter": "python",
   "pygments_lexer": "ipython2",
   "version": "2.7.12"
  }
 },
 "nbformat": 4,
 "nbformat_minor": 0
}
