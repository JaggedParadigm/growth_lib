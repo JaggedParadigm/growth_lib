{
 "cells": [
  {
   "cell_type": "markdown",
   "metadata": {},
   "source": [
    "We want to know what volume, $V_a$, of exponentially growing culture at concentration, $OD_c$, to add to a volume, $V_m$, of fresh media such that the desired optical density, $OD$, should be acheived at a particular time the next day. \n",
    "\n",
    "Exponentially growing cells can be modeled using this equation:\n",
    "\n",
    "$$ OD = OD_0 exp(\\mu \\Delta t)$$\n",
    "\n",
    "where the innoculation OD, $OD_0$, maximum specific growth rate, $\\mu$, and the time until the desired monitoring time, $\\Delta t$, are specified.\n",
    "\n",
    "The total volume of the final culture will be a combination of starting media volume and that added from the exponential culture:\n",
    "\n",
    "$$V_f = V_m + V_a$$\n",
    "\n",
    "The inoculation concentration will be given by\n",
    "\n",
    "$$V_f OD_0=V_a OD_c $$\n",
    "$$(V_m + V_a) OD_0=V_a OD_c $$\n",
    "$$OD_0=\\frac{V_a OD_c}{V_m + V_a}$$\n",
    "$$\\frac{V_a OD_c}{V_m + V_a}=\\frac{OD}{exp(\\mu \\Delta t)}$$"
   ]
  },
  {
   "cell_type": "markdown",
   "metadata": {},
   "source": [
    "$$\\frac{V_m + V_a}{V_a}=\\frac{V_m}{V_a}+1 = \\frac{OD_cexp(\\mu \\Delta t)}{OD}$$"
   ]
  },
  {
   "cell_type": "markdown",
   "metadata": {},
   "source": [
    "$$V_a=\\frac{V_m}{\\frac{OD_cexp(\\mu \\Delta t)}{OD}-1}$$"
   ]
  },
  {
   "cell_type": "code",
   "execution_count": null,
   "metadata": {
    "collapsed": true
   },
   "outputs": [],
   "source": []
  }
 ],
 "metadata": {
  "kernelspec": {
   "display_name": "Python 2",
   "language": "python",
   "name": "python2"
  },
  "language_info": {
   "codemirror_mode": {
    "name": "ipython",
    "version": 2
   },
   "file_extension": ".py",
   "mimetype": "text/x-python",
   "name": "python",
   "nbconvert_exporter": "python",
   "pygments_lexer": "ipython2",
   "version": "2.7.11"
  }
 },
 "nbformat": 4,
 "nbformat_minor": 0
}
