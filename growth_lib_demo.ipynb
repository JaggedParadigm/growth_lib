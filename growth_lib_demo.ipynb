{
 "cells": [
  {
   "cell_type": "markdown",
   "metadata": {},
   "source": [
    "# Import packages"
   ]
  },
  {
   "cell_type": "code",
   "execution_count": 2,
   "metadata": {
    "collapsed": false
   },
   "outputs": [],
   "source": [
    "from growth_lib import calc_preculture_volume\n",
    "import numpy as np"
   ]
  },
  {
   "cell_type": "markdown",
   "metadata": {},
   "source": [
    "# Examples\n",
    "## Inoculation volume from pre-culture\n",
    "Our goal is to calculate the volume of an exponential-phase preculture we should use to inoculate a fresh culture to target a particular OD at a particular time the next day.\n",
    "\n",
    "### Default current time as modeling start time\n",
    "If the keyword argument 'start_time' is specified, growth_lib will use the current time.\n",
    "\n",
    "We would like the inoculation volumes from 3 precultures with measured OD<sub>600</sub> values of 0.3435, 0.2574, and 0.4872 to target an OD<sub>600</sub> of about 0.7 at about 3:30 PM tomorrow starting with 40.0 mL fresh medium, assuming a 3.4 hr doubling time. \n",
    "\n",
    "Here we set these input keyword arguments: "
   ]
  },
  {
   "cell_type": "code",
   "execution_count": 3,
   "metadata": {
    "collapsed": false
   },
   "outputs": [],
   "source": [
    "kwargs = {\n",
    "    'culture_volume': 40.0, # Culture volume in mL\n",
    "    'final_OD': 0.7, # Final OD value\n",
    "    'desired_time': '3:30 PM', # Desired time to acheive final OD\n",
    "    'measured_OD': np.array([0.3435, 0.2574, 0.4872]), # Pre-culture OD\n",
    "    'doubling_time': 3.4 # Strain doubling time\n",
    "}"
   ]
  },
  {
   "cell_type": "markdown",
   "metadata": {},
   "source": [
    "Now we use the calc_culture_dilution() method to calculate the amount of preculture to use to inoculate the final cultures: "
   ]
  },
  {
   "cell_type": "code",
   "execution_count": 4,
   "metadata": {
    "collapsed": false
   },
   "outputs": [
    {
     "name": "stdout",
     "output_type": "stream",
     "text": [
      "[ 0.4908737   0.65507038  0.34609014]\n"
     ]
    }
   ],
   "source": [
    "print calc_preculture_volume(**kwargs)"
   ]
  },
  {
   "cell_type": "markdown",
   "metadata": {},
   "source": [
    "Hence, we need to add 0.457 mL (457 $\\mu$L) to one flask containing 40 mL of fresh medium and 0.610 and 0.322 mL to the others."
   ]
  },
  {
   "cell_type": "markdown",
   "metadata": {},
   "source": [
    "### User-specified modeling start time\n",
    "If we set the 'start_time' keyword argument this will be used for modeling the cell growth from this time instead of the current time.\n",
    "\n",
    "I found that, in practice, setting this for about 20 min after measurement of the preculture usually gave me just about enough time to mix about 10 flasks and place them in the incubator.\n",
    "\n",
    "Here's an example of the same parameters from the last example but with the start time specified:"
   ]
  },
  {
   "cell_type": "code",
   "execution_count": 5,
   "metadata": {
    "collapsed": false
   },
   "outputs": [
    {
     "name": "stdout",
     "output_type": "stream",
     "text": [
      "[ 0.491096    0.65536705  0.34624688]\n"
     ]
    }
   ],
   "source": [
    "kwargs = {\n",
    "    'start_time': '6:28 PM', # Time to start cell culture modeling\n",
    "    'culture_volume': 40.0, # Culture volume in mL\n",
    "    'final_OD': 0.7, # Final OD value\n",
    "    'desired_time': '3:30 PM', # Desired time to acheive final OD\n",
    "    'measured_OD': np.array([0.3435, 0.2574, 0.4872]), # Pre-culture OD\n",
    "    'doubling_time': 3.4 # Strain doubling time\n",
    "}\n",
    "\n",
    "print calc_preculture_volume(**kwargs)"
   ]
  },
  {
   "cell_type": "markdown",
   "metadata": {},
   "source": [
    "### Detailed formula"
   ]
  },
  {
   "cell_type": "code",
   "execution_count": 13,
   "metadata": {
    "collapsed": false
   },
   "outputs": [
    {
     "name": "stdout",
     "output_type": "stream",
     "text": [
      "[ 0.49338689  0.65842424  0.34786207]\n",
      "[ 0.49954869  0.66944372  0.35091383]\n"
     ]
    }
   ],
   "source": [
    "kwargs = {\n",
    "    'start_time': '6:28 PM', # Time to start cell culture modeling\n",
    "    'culture_volume': 40.0, # Culture volume in mL\n",
    "    'final_OD': 0.7, # Final OD value\n",
    "    'desired_time': '3:30 PM', # Desired time to acheive final OD\n",
    "    'measured_OD': np.array([0.3435, 0.2574, 0.4872]), # Pre-culture OD\n",
    "    'doubling_time': 3.4, # Strain doubling time\n",
    "}\n",
    "print calc_preculture_volume(**kwargs)\n",
    "\n",
    "kwargs = {\n",
    "    'start_time': '6:28 PM', # Time to start cell culture modeling\n",
    "    'culture_volume': 40.0, # Culture volume in mL\n",
    "    'final_OD': 0.7, # Final OD value\n",
    "    'desired_time': '3:30 PM', # Desired time to acheive final OD\n",
    "    'measured_OD': np.array([0.3435, 0.2574, 0.4872]), # Pre-culture OD\n",
    "    'doubling_time': 3.4, # Strain doubling time\n",
    "    'detailed_flag': True # Use of detailed formula\n",
    "}\n",
    "\n",
    "print calc_preculture_volume(**kwargs)"
   ]
  },
  {
   "cell_type": "code",
   "execution_count": null,
   "metadata": {
    "collapsed": true
   },
   "outputs": [],
   "source": []
  },
  {
   "cell_type": "code",
   "execution_count": null,
   "metadata": {
    "collapsed": true
   },
   "outputs": [],
   "source": []
  }
 ],
 "metadata": {
  "kernelspec": {
   "display_name": "Python 2",
   "language": "python",
   "name": "python2"
  }
 },
 "nbformat": 4,
 "nbformat_minor": 0
}
