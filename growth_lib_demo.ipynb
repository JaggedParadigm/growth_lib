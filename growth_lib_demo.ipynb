{
 "cells": [
  {
   "cell_type": "markdown",
   "metadata": {},
   "source": [
    "# Import packages"
   ]
  },
  {
   "cell_type": "code",
   "execution_count": 2,
   "metadata": {
    "collapsed": false
   },
   "outputs": [],
   "source": [
    "from growth_lib import calc_culture_dilution\n",
    "import numpy as np"
   ]
  },
  {
   "cell_type": "markdown",
   "metadata": {},
   "source": [
    "# Examples\n",
    "## Inoculation volume from pre-culture\n",
    "Our goal is to calculate the volume of an exponential-phase preculture we should use to inoculate a fresh culture to target a particular OD at a particular time the next day.\n",
    "\n",
    "### Current time used\n",
    "If the keyword argument 'start_time' is specified, growth_lib will use the current time.\n",
    "\n",
    "We would like the inoculation volumes from 3 precultures with measured OD$_{600}$ values of 0.3435, 0.2574, and 0.4872 to target an OD$_{600}$ of about 0.7 at about 3:30 PM tomorrow starting with 40.0 mL fresh medium, assuming a 3.4 hr doubling time. \n",
    "\n",
    "Here we set these input keyword arguments: "
   ]
  },
  {
   "cell_type": "code",
   "execution_count": 15,
   "metadata": {
    "collapsed": false
   },
   "outputs": [],
   "source": [
    "kwargs = {\n",
    "    'culture_volume': 40.0, # Culture volume in mL\n",
    "    'final_OD': 0.7, # Final OD value\n",
    "    'desired_time': '3:30 PM', # Desired time to acheive final OD\n",
    "    'measured_OD': np.array([0.3435, 0.2574, 0.4872]), # Pre-culture OD\n",
    "    'doubling_time': 3.4 # Strain doubling time\n",
    "}"
   ]
  },
  {
   "cell_type": "markdown",
   "metadata": {},
   "source": [
    "Now we use the calc_culture_dilution() method to calculate the amount of preculture to use to inoculate the final cultures: "
   ]
  },
  {
   "cell_type": "code",
   "execution_count": 16,
   "metadata": {
    "collapsed": false
   },
   "outputs": [
    {
     "name": "stdout",
     "output_type": "stream",
     "text": [
      "[ 0.47832527  0.63832452  0.33724288]\n"
     ]
    }
   ],
   "source": [
    "print calc_culture_dilution(**kwargs)"
   ]
  },
  {
   "cell_type": "markdown",
   "metadata": {},
   "source": [
    "Hence, we need to add 0.457 mL (457 $\\mu$L) to one flask containing 40 mL of fresh medium and 0.610 and 0.322 mL to the others."
   ]
  },
  {
   "cell_type": "markdown",
   "metadata": {},
   "source": [
    "### Specified start time used\n",
    "If we set the 'start_time' keyword argument this will be used for modeling the cell growth from this time instead of the current time.\n",
    "\n",
    "I found that, in practice, setting this for about 20 min after measurement of the preculture usually gave me just about enough time to mix about 10 flasks and place them in the incubator.\n",
    "\n",
    "Here's an example of the same parameters from the last example but with the start time specified:"
   ]
  },
  {
   "cell_type": "code",
   "execution_count": 22,
   "metadata": {
    "collapsed": false
   },
   "outputs": [
    {
     "name": "stdout",
     "output_type": "stream",
     "text": [
      "[ 0.48059087  0.64134796  0.33884024]\n"
     ]
    }
   ],
   "source": [
    "kwargs = {\n",
    "    'start_time': '6:28 PM', # Time to start cell culture modeling\n",
    "    'culture_volume': 40.0, # Culture volume in mL\n",
    "    'final_OD': 0.7, # Final OD value\n",
    "    'desired_time': '3:30 PM', # Desired time to acheive final OD\n",
    "    'measured_OD': np.array([0.3435, 0.2574, 0.4872]), # Pre-culture OD\n",
    "    'doubling_time': 3.4 # Strain doubling time\n",
    "}\n",
    "\n",
    "print calc_culture_dilution(**kwargs)"
   ]
  },
  {
   "cell_type": "markdown",
   "metadata": {},
   "source": [
    "### Note about workflow\n",
    "In practice, the calculated inoculation volumes can be very small relative to the final culture volume (< 0.3 mL versus 40 mL). Thus, it is oftentimes "
   ]
  },
  {
   "cell_type": "markdown",
   "metadata": {
    "collapsed": true
   },
   "source": [
    "# Derivaton of exponential culture volume formula \n",
    "We want to know what volume, $V_a$, of exponentially growing culture at concentration, $OD_c$, to add to a volume, $V_m$, of fresh media such that the desired optical density, $OD$, should be acheived at a particular time the next day. \n",
    "\n",
    "The total volume of the final culture will be a combination of starting media volume and that added from the exponential culture:\n",
    "\n",
    "$$V_f = V_m + V_a$$\n",
    "\n",
    "We often desire a particular volume of final culture. One way to do this is to dilute the calculated amount of exponential culture with medium to a final volume. This can quickly become too laborious. Thus, it is more efficient to target the use of an exponential culture volume that is negligible relative to that already placed in the flasks. \n",
    "\n",
    "$$V_f \\approx V_m$$\n",
    "\n",
    "This has the added benefit in tracer experiments of allowing more doubling times for labeled cells to dominate the culture over the initial unlabeled inoculation cells.\n",
    "\n",
    "The inoculation concentration will be given by\n",
    "\n",
    "$$V_m OD_0=V_a OD_c $$\n",
    "\n",
    "Exponentially growing cells can be modeled using this equation:\n",
    "\n",
    "$$ OD = OD_0 exp(\\mu \\Delta t)$$\n",
    "\n",
    "where the innoculation OD, $OD_0$, maximum specific growth rate, $\\mu$, and the time until the desired monitoring time, $\\Delta t$, are specified.\n",
    "\n",
    "Combining this and the previous equation and solving for $V_a$ results in:\n",
    "\n",
    "$$V_a=\\frac{1}{\\frac{OD_c exp(\\mu \\Delta t)}{OD}}V_m$$"
   ]
  },
  {
   "cell_type": "code",
   "execution_count": null,
   "metadata": {
    "collapsed": true
   },
   "outputs": [],
   "source": []
  }
 ],
 "metadata": {
  "kernelspec": {
   "display_name": "Python 2",
   "language": "python",
   "name": "python2"
  },
  "language_info": {
   "codemirror_mode": {
    "name": "ipython",
    "version": 2
   },
   "file_extension": ".py",
   "mimetype": "text/x-python",
   "name": "python",
   "nbconvert_exporter": "python",
   "pygments_lexer": "ipython2",
   "version": "2.7.11"
  }
 },
 "nbformat": 4,
 "nbformat_minor": 0
}
