{
 "cells": [
  {
   "cell_type": "markdown",
   "metadata": {},
   "source": [
    "# Example calculations\n",
    "The current time is automatically calculated if the start_time keyword argument isn't given. It's used to calculate the volume of exponential culture to inoculate into \n",
    "\n",
    "## Import necessary packages"
   ]
  },
  {
   "cell_type": "code",
   "execution_count": 8,
   "metadata": {
    "collapsed": false
   },
   "outputs": [],
   "source": [
    "from growth_lib import calc_culture_dilution\n",
    "import numpy as np"
   ]
  },
  {
   "cell_type": "markdown",
   "metadata": {},
   "source": [
    "## Set parameters for calculating using current time as start time "
   ]
  },
  {
   "cell_type": "code",
   "execution_count": 9,
   "metadata": {
    "collapsed": true
   },
   "outputs": [],
   "source": [
    "kwargs = {\n",
    "    'culture_volume': 40.0, # mL\n",
    "    'final_OD': 0.7,\n",
    "    'desired_time': '9:30 AM',\n",
    "    'measured_OD': 5*np.array([0.3435, 0.2574]),\n",
    "    'doubling_time': 3.4\n",
    "}"
   ]
  },
  {
   "cell_type": "markdown",
   "metadata": {},
   "source": [
    "## Calculate corresponding inoculation volume (mL)"
   ]
  },
  {
   "cell_type": "code",
   "execution_count": 10,
   "metadata": {
    "collapsed": false
   },
   "outputs": [
    {
     "name": "stdout",
     "output_type": "stream",
     "text": [
      "[ 0.18678486  0.24926418]\n"
     ]
    }
   ],
   "source": [
    "print calc_culture_dilution(**kwargs)"
   ]
  },
  {
   "cell_type": "markdown",
   "metadata": {},
   "source": [
    "## Set parameters with a specific start-time"
   ]
  },
  {
   "cell_type": "code",
   "execution_count": 13,
   "metadata": {
    "collapsed": false
   },
   "outputs": [],
   "source": [
    "kwargs = {\n",
    "    'start_time': '5:50 PM',\n",
    "    'culture_volume': 40.0, # mL\n",
    "    'final_OD': 0.7,\n",
    "    'desired_time': '9:30 AM',\n",
    "    'measured_OD': 5*np.array([0.3435, 0.2574]),\n",
    "    'doubling_time': 3.4\n",
    "}"
   ]
  },
  {
   "cell_type": "markdown",
   "metadata": {},
   "source": [
    "## Calculate corresponding inoculation volume (mL) for a specified start time"
   ]
  },
  {
   "cell_type": "code",
   "execution_count": 14,
   "metadata": {
    "collapsed": false
   },
   "outputs": [
    {
     "name": "stdout",
     "output_type": "stream",
     "text": [
      "[ 0.18705604  0.24962606]\n"
     ]
    }
   ],
   "source": [
    "print calc_culture_dilution(**kwargs)"
   ]
  },
  {
   "cell_type": "markdown",
   "metadata": {
    "collapsed": true
   },
   "source": [
    "# Derivaton of exponential culture volume formula \n",
    "We want to know what volume, $V_a$, of exponentially growing culture at concentration, $OD_c$, to add to a volume, $V_m$, of fresh media such that the desired optical density, $OD$, should be acheived at a particular time the next day. \n",
    "\n",
    "The total volume of the final culture will be a combination of starting media volume and that added from the exponential culture:\n",
    "\n",
    "$$V_f = V_m + V_a$$\n",
    "\n",
    "We often desire a particular volume of final culture. One way to do this is to dilute the calculated amount of exponential culture with medium to a final volume. This can quickly become too laborious. Thus, it is more efficient to target the use of an exponential culture volume that is negligible relative to that already placed in the flasks. \n",
    "\n",
    "$$V_f \\approx V_m$$\n",
    "\n",
    "This has the added benefit in tracer experiments of allowing more doubling times for labeled cells to dominate the culture over the initial unlabeled inoculation cells.\n",
    "\n",
    "The inoculation concentration will be given by\n",
    "\n",
    "$$V_m OD_0=V_a OD_c $$\n",
    "\n",
    "Exponentially growing cells can be modeled using this equation:\n",
    "\n",
    "$$ OD = OD_0 exp(\\mu \\Delta t)$$\n",
    "\n",
    "where the innoculation OD, $OD_0$, maximum specific growth rate, $\\mu$, and the time until the desired monitoring time, $\\Delta t$, are specified.\n",
    "\n",
    "Combining this and the previous equation and solving for $V_a$ results in:\n",
    "\n",
    "$$V_a=\\frac{1}{\\frac{OD_c exp(\\mu \\Delta t)}{OD}}V_m$$"
   ]
  }
 ],
 "metadata": {
  "kernelspec": {
   "display_name": "Python 2",
   "language": "python",
   "name": "python2"
  },
  "language_info": {
   "codemirror_mode": {
    "name": "ipython",
    "version": 2
   },
   "file_extension": ".py",
   "mimetype": "text/x-python",
   "name": "python",
   "nbconvert_exporter": "python",
   "pygments_lexer": "ipython2",
   "version": "2.7.11"
  }
 },
 "nbformat": 4,
 "nbformat_minor": 0
}
